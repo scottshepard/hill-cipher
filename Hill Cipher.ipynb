{
 "cells": [
  {
   "cell_type": "code",
   "execution_count": 1,
   "metadata": {
    "collapsed": true
   },
   "outputs": [],
   "source": [
    "import numpy as np\n",
    "from scipy import linalg as LA\n",
    "from sys import float_info # to check determinant = 0\n",
    "\n",
    "def message_formatter(message):\n",
    "    if len(message) % 2 != 0:\n",
    "        message = message + ' '\n",
    "    return [message[i:i+2] for i in range(0, len(message), 2)]\n",
    "\n",
    "def key_formatter(key_input):\n",
    "    key = [int(i) for i in key_input.split(',')]\n",
    "    return np.array([key[i:i+2] for i in range(0, len(key), 2)])\n",
    "\n",
    "def is_invertible(key):\n",
    "    return np.linalg.cond(key) < 1/float_info.epsilon\n",
    "\n",
    "def simple_encrypt(message, key):\n",
    "    message = [ord(c) for c in list(message)]\n",
    "    convert = \"\"\n",
    "    testd = key.dot(message)\n",
    "\n",
    "    for i in range(0, len(testd)):\n",
    "        convert = convert + chr(testd[i])\n",
    "    return convert\n",
    "    \n",
    "def simple_decrypt(message, key):\n",
    "    testd = [ord(c) for c in list(message)]\n",
    "    keyinv = LA.inv(key)\n",
    "    converted = keyinv.dot(testd)\n",
    "    output = ''\n",
    "    for i in range(0, len(converted)):\n",
    "        z = int(round(converted[i]))\n",
    "        output = output + chr(z)\n",
    "    return output\n",
    "\n",
    "def encryptor(message, key_matrix):\n",
    "    return ''.join([simple_encrypt(chunk, key_matrix) for chunk in message_formatter(message)])\n",
    "    \n",
    "def decryptor(message, key_matrix):\n",
    "    return ''.join([simple_decrypt(chunk, key_matrix) for chunk in message_formatter(message)]) #fraud"
   ]
  },
  {
   "cell_type": "code",
   "execution_count": 2,
   "metadata": {
    "collapsed": false,
    "scrolled": true
   },
   "outputs": [
    {
     "name": "stdout",
     "output_type": "stream",
     "text": [
      "\n",
      "Do you want to encrypt or decrypt the message?\n",
      "Enter 1 to Encrypt, 2 to Decrypt, -1 to Exit Program: 1\n",
      "\n",
      "Enter the message to encrypt: Hello!\n",
      "\n",
      "Please enter a 2x2 matrix as your encryption key: 1,3,5,7\n"
     ]
    },
    {
     "ename": "NameError",
     "evalue": "name 'encryptor' is not defined",
     "output_type": "error",
     "traceback": [
      "\u001b[0;31m---------------------------------------------------------------------------\u001b[0m",
      "\u001b[0;31mNameError\u001b[0m                                 Traceback (most recent call last)",
      "\u001b[0;32m<ipython-input-2-9108b5e7efc0>\u001b[0m in \u001b[0;36m<module>\u001b[0;34m()\u001b[0m\n\u001b[1;32m     13\u001b[0m         \u001b[0mkey_matrix\u001b[0m \u001b[0;34m=\u001b[0m \u001b[0mnp\u001b[0m\u001b[0;34m.\u001b[0m\u001b[0marray\u001b[0m\u001b[0;34m(\u001b[0m\u001b[0;34m[\u001b[0m\u001b[0mkey\u001b[0m\u001b[0;34m[\u001b[0m\u001b[0mi\u001b[0m\u001b[0;34m:\u001b[0m\u001b[0mi\u001b[0m\u001b[0;34m+\u001b[0m\u001b[0;36m2\u001b[0m\u001b[0;34m]\u001b[0m \u001b[0;32mfor\u001b[0m \u001b[0mi\u001b[0m \u001b[0;32min\u001b[0m \u001b[0mrange\u001b[0m\u001b[0;34m(\u001b[0m\u001b[0;36m0\u001b[0m\u001b[0;34m,\u001b[0m \u001b[0mlen\u001b[0m\u001b[0;34m(\u001b[0m\u001b[0mkey\u001b[0m\u001b[0;34m)\u001b[0m\u001b[0;34m,\u001b[0m \u001b[0;36m2\u001b[0m\u001b[0;34m)\u001b[0m\u001b[0;34m]\u001b[0m\u001b[0;34m)\u001b[0m\u001b[0;34m\u001b[0m\u001b[0m\n\u001b[1;32m     14\u001b[0m \u001b[0;34m\u001b[0m\u001b[0m\n\u001b[0;32m---> 15\u001b[0;31m         \u001b[0mprint\u001b[0m\u001b[0;34m(\u001b[0m\u001b[0mencryptor\u001b[0m\u001b[0;34m(\u001b[0m\u001b[0mmessage\u001b[0m\u001b[0;34m,\u001b[0m \u001b[0mkey_matrix\u001b[0m\u001b[0;34m)\u001b[0m\u001b[0;34m)\u001b[0m\u001b[0;34m\u001b[0m\u001b[0m\n\u001b[0m\u001b[1;32m     16\u001b[0m \u001b[0;34m\u001b[0m\u001b[0m\n\u001b[1;32m     17\u001b[0m     \u001b[0;32melif\u001b[0m \u001b[0mchoice\u001b[0m \u001b[0;34m==\u001b[0m \u001b[0;34m'2'\u001b[0m\u001b[0;34m:\u001b[0m\u001b[0;34m\u001b[0m\u001b[0m\n",
      "\u001b[0;31mNameError\u001b[0m: name 'encryptor' is not defined"
     ]
    }
   ],
   "source": [
    "## result = ''\n",
    "message = ''\n",
    "choice = ''\n",
    " \n",
    "while choice != '-1':\n",
    "    choice = input(\"\\nDo you want to encrypt or decrypt the message?\\nEnter 1 to Encrypt, 2 to Decrypt, -1 to Exit Program: \")\n",
    " \n",
    "    if choice == '1':\n",
    "        message = input(\"\\nEnter the message to encrypt: \")\n",
    "        key_input = input(\"\\nPlease enter a 2x2 matrix as your encryption key: \")\n",
    "        \n",
    "        key = [int(i) for i in key_input.split(',')]\n",
    "        key_matrix = np.array([key[i:i+2] for i in range(0, len(key), 2)])\n",
    "        \n",
    "        print(encryptor(message, key_matrix))\n",
    " \n",
    "    elif choice == '2':\n",
    "        message = input(\"\\nEnter the message to decrypt: \")\n",
    "        key_input2 = input(\"\\nPlease enter a 2x2 matrix as your encryption key: \")\n",
    "        \n",
    "        key2 = [int(i) for i in key_input2.split(',')]\n",
    "        key_matrix2 = np.array([key2[i:i+2] for i in range(0, len(key2), 2)])\n",
    "        \n",
    "        print(decryptor(message, key_matrix2))\n",
    " \n",
    "    elif choice != '-1':\n",
    "        print (\"You have entered an invalid choice. Please try again.\\n\\n\")"
   ]
  }
 ],
 "metadata": {
  "kernelspec": {
   "display_name": "Python 3",
   "language": "python",
   "name": "python3"
  },
  "language_info": {
   "codemirror_mode": {
    "name": "ipython",
    "version": 3
   },
   "file_extension": ".py",
   "mimetype": "text/x-python",
   "name": "python",
   "nbconvert_exporter": "python",
   "pygments_lexer": "ipython3",
   "version": "3.6.0"
  }
 },
 "nbformat": 4,
 "nbformat_minor": 2
}
